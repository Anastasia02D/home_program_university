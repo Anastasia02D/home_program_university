{
 "cells": [
  {
   "cell_type": "code",
   "execution_count": 1,
   "metadata": {},
   "outputs": [],
   "source": [
    "import math"
   ]
  },
  {
   "cell_type": "code",
   "execution_count": 7,
   "metadata": {},
   "outputs": [
    {
     "data": {
      "text/plain": [
       "TestResults(failed=0, attempted=21)"
      ]
     },
     "execution_count": 7,
     "metadata": {},
     "output_type": "execute_result"
    }
   ],
   "source": [
    "def sr(F='1.txt'):\n",
    "       \"\"\"\n",
    "       Finding the sum after the last min\n",
    "       >>> g = open('1.txt','w')\n",
    "       >>> u = g.write('')\n",
    "       >>> g.close()\n",
    "       >>> sr()\n",
    "       -1\n",
    "       >>> g = open('1.txt','w')\n",
    "       >>> u = g.write('3 1 2 3 4 5')\n",
    "       >>> g.close()\n",
    "       >>> sr(\"1.txt\")\n",
    "       14\n",
    "       >>> g = open('1.txt','w')\n",
    "       >>> u = g.write('1 1 2 3 4 5')\n",
    "       >>> g.close()\n",
    "       >>> sr(\"1.txt\")\n",
    "       14\n",
    "       >>> print(sr('kklklk3.txt'))\n",
    "       -3\n",
    "       >>> g = open('1.txt','w')\n",
    "       >>> u = g.write('1 3 -1 4 5 6')\n",
    "       >>> g.close()\n",
    "       >>> sr()\n",
    "       15\n",
    "       >>> g = open('1.txt','w')\n",
    "       >>> u = g.write('1 0 0 0 0 1 -1')\n",
    "       >>> g.close()\n",
    "       >>> sr(\"1.txt\")\n",
    "       'b'\n",
    "       \"\"\"\n",
    "       \n",
    "       try:\n",
    "            f = open(F,'r')\n",
    "            a = list(map(int, f.read().split()))\n",
    "            n = 0\n",
    "            ans = 0\n",
    "            current = 0\n",
    "            minel = 0\n",
    "            count = 0\n",
    "            prevel = 0\n",
    "            try:\n",
    "                  for elem in a:\n",
    "                         if n == 0:\n",
    "                             prevel = elem\n",
    "                             minel = prevel\n",
    "                             n += 1\n",
    "                         else:\n",
    "                            current = elem\n",
    "                            n += 1\n",
    "                            if minel >= prevel  and minel < current:\n",
    "                                minel = prevel\n",
    "                                count += current\n",
    "                            elif minel < current:\n",
    "                                count+=current\n",
    "                            if minel >= current:\n",
    "                                minel = current\n",
    "                                count = 0\n",
    "                  if n == 0:\n",
    "                         return -1\n",
    "                  if n == 2 and minel > current:\n",
    "                         return \"b\"\n",
    "                  elif n == 2 and minel > prevel:\n",
    "                         return \"b\"\n",
    "                  if n == 1:\n",
    "                         return \"b\"\n",
    "                  if minel == current:\n",
    "                         return \"b\"\n",
    "                  return count\n",
    "            except TypeError:\n",
    "                return \"c\"\n",
    "       except FileNotFoundError:\n",
    "            return -3\n",
    "       except :\n",
    "            return \"c\"\n",
    "                \n",
    "import doctest\n",
    "doctest.testmod()\n"
   ]
  },
  {
   "cell_type": "code",
   "execution_count": null,
   "metadata": {},
   "outputs": [],
   "source": []
  },
  {
   "cell_type": "code",
   "execution_count": null,
   "metadata": {},
   "outputs": [],
   "source": []
  }
 ],
 "metadata": {
  "kernelspec": {
   "display_name": "Python 3",
   "language": "python",
   "name": "python3"
  },
  "language_info": {
   "codemirror_mode": {
    "name": "ipython",
    "version": 3
   },
   "file_extension": ".py",
   "mimetype": "text/x-python",
   "name": "python",
   "nbconvert_exporter": "python",
   "pygments_lexer": "ipython3",
   "version": "3.8.5"
  }
 },
 "nbformat": 4,
 "nbformat_minor": 4
}
