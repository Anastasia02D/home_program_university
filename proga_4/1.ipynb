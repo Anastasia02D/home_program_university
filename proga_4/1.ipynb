{
 "cells": [
  {
   "cell_type": "code",
   "execution_count": 4,
   "metadata": {},
   "outputs": [],
   "source": [
    "import math\n",
    "import os"
   ]
  },
  {
   "cell_type": "code",
   "execution_count": 23,
   "metadata": {},
   "outputs": [],
   "source": [
    "def read_f(f = '1.txt'):\n",
    "    \"\"\"\n",
    "    >>> g=open(\"5.txt\",\"w\")\n",
    "    >>> u=g.write(\"   \")\n",
    "    >>> g.close()\n",
    "    >>> read_f(\"5.txt\")\n",
    "    -3\n",
    "    >>> g=open(\"2.txt\",\"w\")\n",
    "    >>> u=g.write(\"1 2 2 -3\")\n",
    "    >>> g.close()\n",
    "    >>> read_f(\"2.txt\")\n",
    "    0\n",
    "    >>> g=open(\"3.txt\",\"w\")\n",
    "    >>> u=g.write(\" 1 1 1\")\n",
    "    >>> g.close()\n",
    "    >>> read_f(\"3.txt\")\n",
    "    0\n",
    "    >>> g=open(\"4.txt\",\"w\")\n",
    "    >>> u=g.write(\"1 2 a\")\n",
    "    >>> g.close()\n",
    "    >>> read_f(\"4.txt\")\n",
    "    -2\n",
    "    >>> g=open(\"6.txt\",\"w\")\n",
    "    >>> u=g.write(\"1 2 2 3 \")\n",
    "    >>> g.close()\n",
    "    >>> read_f(\"6.txt\")\n",
    "    3\n",
    "    \"\"\"\n",
    "    k=0\n",
    "    i=0\n",
    "    fl = -1\n",
    "    if (os.path.exists(f)):\n",
    "        with open(f) as file:\n",
    "            for line in file:\n",
    "                for x in line.split (' '): \n",
    "                    if x != \"\":\n",
    "                        try:\n",
    "                            x = int(x)\n",
    "                            k+=1\n",
    "                            if i == 0:\n",
    "                                x1 = x\n",
    "                                i += 1\n",
    "                            elif (i == 1) and (x1 != x):\n",
    "                                x2 = x\n",
    "                                i += 1\n",
    "                            elif (i >= 2) and (x2 != x):\n",
    "                                x3 = x\n",
    "                                if (x1 < x2 < x3) or (x1 > x2 > x3):\n",
    "                                    fl = k-1\n",
    "                                else:\n",
    "                                    x1 = x2\n",
    "                                    x2 = x3\n",
    "                                    i += 1\n",
    "                        except ValueError:   \n",
    "                            return -2\n",
    "                                \n",
    "    else:\n",
    "        return -1\n",
    "    if i == 0:\n",
    "        return -3\n",
    "#    if (i == 2) and (k == 2):\n",
    "#        return 2\n",
    "    if fl != -1:\n",
    "        return fl\n",
    "    return 0"
   ]
  },
  {
   "cell_type": "code",
   "execution_count": 24,
   "metadata": {},
   "outputs": [
    {
     "name": "stdout",
     "output_type": "stream",
     "text": [
      "No suсh numbers\n"
     ]
    }
   ],
   "source": [
    "err = read_f()\n",
    "if err == 0:\n",
    "    print (\"No suсh numbers\")\n",
    "elif err == -1:\n",
    "    print (\"Not file\\n\")\n",
    "elif err == -2:\n",
    "    print (\"Bad data\")\n",
    "elif err == -3:\n",
    "    print (\"Empty file\\n\")\n",
    "else:\n",
    "    print (err)"
   ]
  },
  {
   "cell_type": "code",
   "execution_count": 25,
   "metadata": {},
   "outputs": [
    {
     "data": {
      "text/plain": [
       "TestResults(failed=0, attempted=20)"
      ]
     },
     "execution_count": 25,
     "metadata": {},
     "output_type": "execute_result"
    }
   ],
   "source": [
    "import doctest\n",
    "doctest.testmod()"
   ]
  },
  {
   "cell_type": "code",
   "execution_count": null,
   "metadata": {},
   "outputs": [],
   "source": []
  }
 ],
 "metadata": {
  "kernelspec": {
   "display_name": "Python 3",
   "language": "python",
   "name": "python3"
  },
  "language_info": {
   "codemirror_mode": {
    "name": "ipython",
    "version": 3
   },
   "file_extension": ".py",
   "mimetype": "text/x-python",
   "name": "python",
   "nbconvert_exporter": "python",
   "pygments_lexer": "ipython3",
   "version": "3.8.5"
  }
 },
 "nbformat": 4,
 "nbformat_minor": 4
}
