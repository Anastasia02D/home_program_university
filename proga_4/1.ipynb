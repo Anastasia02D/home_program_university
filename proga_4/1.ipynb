{
 "cells": [
  {
   "cell_type": "code",
   "execution_count": 10,
   "metadata": {},
   "outputs": [],
   "source": [
    "import math\n",
    "import os"
   ]
  },
  {
   "cell_type": "code",
   "execution_count": null,
   "metadata": {},
   "outputs": [],
   "source": []
  },
  {
   "cell_type": "code",
   "execution_count": 11,
   "metadata": {},
   "outputs": [],
   "source": [
    "def read_f():\n",
    "    \"\"\"\n",
    "    >>> g=open(\"2.txt\",\"w\")\n",
    "    >>> u=g.write(\" \")\n",
    "    >>> g.close()\n",
    "    >>> read_f()\n",
    "\n",
    "    >>> g=open(\"3.txt\",\"w\")\n",
    "    >>> u=g.write(\" \")\n",
    "    >>> g.close()\n",
    "    >>> read_f()\n",
    "    \n",
    "    >>> g=open(\"3.txt\",\"w\")\n",
    "    >>> u=g.write(\" \")\n",
    "    >>> g.close()\n",
    "    >>> read_f()\n",
    "    \n",
    "    >>> g=open(\"3.txt\",\"w\")\n",
    "    >>> u=g.write(\" \")\n",
    "    >>> g.close()\n",
    "    >>> read_f()\n",
    "    \"\"\"\n",
    "    k=0\n",
    "    i=0\n",
    "    if (os.path.exists('1.txt')):\n",
    "        with open(\"1.txt\") as file:\n",
    "            for line in file:\n",
    "                for x in line.split (' '): \n",
    "                    if x != \"\":\n",
    "                        i += 1\n",
    "                        if x.isdigit():\n",
    "                            x = int(x)\n",
    "                            #print (x)\n",
    "                            if k == 0:\n",
    "                                pred = x\n",
    "                                k += 1\n",
    "                            else:\n",
    "                                if pred == x:\n",
    "                                    k += 1\n",
    "                                    if k >= 3:\n",
    "                                        return i-1\n",
    "                                else:\n",
    "                                    k = 1\n",
    "                                    pred = x\n",
    "                            #print(k)\n",
    "                        else:\n",
    "                            return -2                              \n",
    "    else:\n",
    "        return -1\n",
    "    if i == 0:\n",
    "        return -3\n",
    "    return 0"
   ]
  },
  {
   "cell_type": "code",
   "execution_count": 12,
   "metadata": {},
   "outputs": [
    {
     "name": "stdout",
     "output_type": "stream",
     "text": [
      "5\n"
     ]
    }
   ],
   "source": [
    "err = read_f()\n",
    "if err == 0:\n",
    "    print (\"No suсh numbers\")\n",
    "elif err == -1:\n",
    "    print (\"Not file\\n\")\n",
    "elif err == -2:\n",
    "    print (\"Bad data\")\n",
    "elif err == -3:\n",
    "    print (\"Empty file\\n\")\n",
    "else:\n",
    "    print (err)"
   ]
  },
  {
   "cell_type": "code",
   "execution_count": 13,
   "metadata": {},
   "outputs": [
    {
     "name": "stdout",
     "output_type": "stream",
     "text": [
      "**********************************************************************\n",
      "File \"__main__\", line 6, in __main__.read_f\n",
      "Failed example:\n",
      "    read_f(1)\n",
      "Exception raised:\n",
      "    Traceback (most recent call last):\n",
      "      File \"/usr/lib/python3.8/doctest.py\", line 1336, in __run\n",
      "        exec(compile(example.source, filename, \"single\",\n",
      "      File \"<doctest __main__.read_f[3]>\", line 1, in <module>\n",
      "        read_f(1)\n",
      "    TypeError: read_f() takes 0 positional arguments but 1 was given\n",
      "**********************************************************************\n",
      "File \"__main__\", line 11, in __main__.read_f\n",
      "Failed example:\n",
      "    read_f()\n",
      "Expected nothing\n",
      "Got:\n",
      "    5\n",
      "**********************************************************************\n",
      "File \"__main__\", line 16, in __main__.read_f\n",
      "Failed example:\n",
      "    read_f()\n",
      "Expected nothing\n",
      "Got:\n",
      "    5\n",
      "**********************************************************************\n",
      "File \"__main__\", line 21, in __main__.read_f\n",
      "Failed example:\n",
      "    read_f()\n",
      "Expected nothing\n",
      "Got:\n",
      "    5\n",
      "**********************************************************************\n",
      "1 items had failures:\n",
      "   4 of  16 in __main__.read_f\n",
      "***Test Failed*** 4 failures.\n"
     ]
    },
    {
     "data": {
      "text/plain": [
       "TestResults(failed=4, attempted=16)"
      ]
     },
     "execution_count": 13,
     "metadata": {},
     "output_type": "execute_result"
    }
   ],
   "source": [
    "import doctest\n",
    "doctest.testmod()"
   ]
  }
 ],
 "metadata": {
  "kernelspec": {
   "display_name": "Python 3",
   "language": "python",
   "name": "python3"
  },
  "language_info": {
   "codemirror_mode": {
    "name": "ipython",
    "version": 3
   },
   "file_extension": ".py",
   "mimetype": "text/x-python",
   "name": "python",
   "nbconvert_exporter": "python",
   "pygments_lexer": "ipython3",
   "version": "3.8.5"
  }
 },
 "nbformat": 4,
 "nbformat_minor": 4
}
