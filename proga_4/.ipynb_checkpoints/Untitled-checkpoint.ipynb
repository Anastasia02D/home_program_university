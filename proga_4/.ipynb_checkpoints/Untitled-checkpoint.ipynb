{
 "cells": [
  {
   "cell_type": "markdown",
   "metadata": {},
   "source": [
    "#withopen"
   ]
  },
  {
   "cell_type": "code",
   "execution_count": 14,
   "metadata": {},
   "outputs": [],
   "source": [
    "import math\n",
    "import os"
   ]
  },
  {
   "cell_type": "code",
   "execution_count": 78,
   "metadata": {},
   "outputs": [],
   "source": [
    "def read_f():\n",
    "    k=0\n",
    "    i=0\n",
    "    if (os.path.exists('1.txt')):\n",
    "        with open(\"1.txt\") as file:\n",
    "            for line in file:\n",
    "                for x in line.split (' '): \n",
    "                    if x != \"\":\n",
    "                        i += 1\n",
    "                        if x.isdigit():\n",
    "                            x = int(x)\n",
    "                            #print (x)\n",
    "                            if k == 0:\n",
    "                                pred = x\n",
    "                                k += 1\n",
    "                            else:\n",
    "                                if pred == x:\n",
    "                                    k += 1\n",
    "                                    if k >= 3:\n",
    "                                        return i-1\n",
    "                                else:\n",
    "                                    k = 1\n",
    "                                    pred = x\n",
    "                            #print(k)\n",
    "                        else:\n",
    "                            return -2                              \n",
    "    else:\n",
    "        return -1\n",
    "    if i == 0:\n",
    "        return -3\n",
    "    return 0"
   ]
  },
  {
   "cell_type": "code",
   "execution_count": 79,
   "metadata": {},
   "outputs": [
    {
     "name": "stdout",
     "output_type": "stream",
     "text": [
      "5\n"
     ]
    }
   ],
   "source": [
    "err = read_f()\n",
    "if err == 0:\n",
    "    print (\"No suсh numbers\")\n",
    "elif err == -1:\n",
    "    print (\"Not file\\n\")\n",
    "elif err == -2:\n",
    "    print (\"Bad data\")\n",
    "elif err == -3:\n",
    "    print (\"Empty file\\n\")\n",
    "else:\n",
    "    print (err)"
   ]
  },
  {
   "cell_type": "code",
   "execution_count": 67,
   "metadata": {},
   "outputs": [
    {
     "name": "stdout",
     "output_type": "stream",
     "text": [
      " 12 3   45 7 7 7 5 4 5 5 5 5  5\n",
      "12\n",
      "3\n",
      "45\n",
      "7\n",
      "7\n",
      "7\n",
      "5\n",
      "4\n",
      "5\n",
      "5\n",
      "5\n",
      "5\n",
      "5\n"
     ]
    }
   ],
   "source": [
    "if (os.path.exists('1.txt')):\n",
    "        with open(\"1.txt\") as file:\n",
    "            for line in file:\n",
    "                print (line)\n",
    "                for x in line.split (' '):\n",
    "                    if x != \"\":\n",
    "                        print (x)"
   ]
  },
  {
   "cell_type": "code",
   "execution_count": 45,
   "metadata": {},
   "outputs": [
    {
     "data": {
      "text/plain": [
       "'1'"
      ]
     },
     "execution_count": 45,
     "metadata": {},
     "output_type": "execute_result"
    }
   ],
   "source": [
    "line"
   ]
  },
  {
   "cell_type": "code",
   "execution_count": 46,
   "metadata": {},
   "outputs": [
    {
     "data": {
      "text/plain": [
       "'1'"
      ]
     },
     "execution_count": 46,
     "metadata": {},
     "output_type": "execute_result"
    }
   ],
   "source": [
    "x"
   ]
  },
  {
   "cell_type": "code",
   "execution_count": 47,
   "metadata": {},
   "outputs": [
    {
     "name": "stdout",
     "output_type": "stream",
     "text": [
      "<class 'str'>\n"
     ]
    }
   ],
   "source": [
    "print (type(x))"
   ]
  },
  {
   "cell_type": "code",
   "execution_count": 50,
   "metadata": {},
   "outputs": [
    {
     "data": {
      "text/plain": [
       "True"
      ]
     },
     "execution_count": 50,
     "metadata": {},
     "output_type": "execute_result"
    }
   ],
   "source": [
    "x.isdigit()"
   ]
  },
  {
   "cell_type": "code",
   "execution_count": null,
   "metadata": {},
   "outputs": [],
   "source": []
  }
 ],
 "metadata": {
  "kernelspec": {
   "display_name": "Python 3",
   "language": "python",
   "name": "python3"
  },
  "language_info": {
   "codemirror_mode": {
    "name": "ipython",
    "version": 3
   },
   "file_extension": ".py",
   "mimetype": "text/x-python",
   "name": "python",
   "nbconvert_exporter": "python",
   "pygments_lexer": "ipython3",
   "version": "3.8.5"
  }
 },
 "nbformat": 4,
 "nbformat_minor": 4
}
