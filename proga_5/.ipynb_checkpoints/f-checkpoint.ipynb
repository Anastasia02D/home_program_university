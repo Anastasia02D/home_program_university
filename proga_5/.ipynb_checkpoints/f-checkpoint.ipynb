{
 "cells": [
  {
   "cell_type": "code",
   "execution_count": 7,
   "metadata": {},
   "outputs": [],
   "source": [
    "def read_f(f):\n",
    "    arr = [];\n",
    "    if (os.path.exists(f)):\n",
    "        with open(f) as file: \n",
    "            for line in file:\n",
    "                for x in line.split (' '): \n",
    "                    if x != \"\":\n",
    "                        if x.isdigit():\n",
    "                            arr.append(int(x))\n",
    "                        else:\n",
    "                            return arr, -2\n",
    "    else:\n",
    "        return arr, -1\n",
    "    if len(arr) == 0:\n",
    "        return arr, -3\n",
    "    return arr, 0"
   ]
  },
  {
   "cell_type": "code",
   "execution_count": 8,
   "metadata": {},
   "outputs": [],
   "source": [
    "def add(arr, begin, i):\n",
    "    if begin != i-1:\n",
    "        k = i - begin\n",
    "        for j in range(k):\n",
    "            arr.insert(i, arr[begin])\n",
    "            i +=1\n",
    "            begin += 1;\n",
    "    return arr, begin, i"
   ]
  },
  {
   "cell_type": "code",
   "execution_count": 9,
   "metadata": {},
   "outputs": [],
   "source": [
    "def f_ins(arr):\n",
    "    print (\"!\", len(arr))\n",
    "    i = 1\n",
    "    begin = 0\n",
    "    while i < len(arr):\n",
    "        print (i)\n",
    "        if arr[i - 1] >= arr[i]:\n",
    "            arr, begin, i = add(arr, begin, i)\n",
    "            begin = i\n",
    "        i += 1 \n",
    "    arr, begin, i = add(arr, begin, i)\n",
    "    return arr"
   ]
  },
  {
   "cell_type": "code",
   "execution_count": null,
   "metadata": {},
   "outputs": [],
   "source": []
  }
 ],
 "metadata": {
  "kernelspec": {
   "display_name": "Python 3",
   "language": "python",
   "name": "python3"
  },
  "language_info": {
   "codemirror_mode": {
    "name": "ipython",
    "version": 3
   },
   "file_extension": ".py",
   "mimetype": "text/x-python",
   "name": "python",
   "nbconvert_exporter": "python",
   "pygments_lexer": "ipython3",
   "version": "3.8.5"
  }
 },
 "nbformat": 4,
 "nbformat_minor": 4
}
