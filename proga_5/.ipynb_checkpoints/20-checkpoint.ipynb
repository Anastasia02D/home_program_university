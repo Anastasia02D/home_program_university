{
 "cells": [
  {
   "cell_type": "code",
   "execution_count": 10,
   "metadata": {},
   "outputs": [],
   "source": [
    "import math\n",
    "import os\n",
    "import f"
   ]
  },
  {
   "cell_type": "code",
   "execution_count": 29,
   "metadata": {},
   "outputs": [],
   "source": [
    "def main (F = '1.txt'):\n",
    "    \"\"\"\n",
    "    \n",
    "    >>> g=open('1.txt','w')\n",
    "    >>> u=g.write('1 0 2 4 0 0 3 3 3 0 10 20  ')\n",
    "    >>> g.close()\n",
    "    >>> main()\n",
    "    [1, 0, 2, 4, 0, 0, 3, 3, 3, 0, 10, 20]\n",
    "    [1, 0, 2, 4, 0, 2, 4, 0, 0, 3, 0, 3, 3, 3, 0, 10, 20, 0, 10, 20]\n",
    "    \n",
    "    \n",
    "    >>> g=open('2.txt','w')\n",
    "    >>> u= g.write('  ')\n",
    "    >>> g.close()\n",
    "    >>> main('2.txt')\n",
    "    Empty file\n",
    "    \n",
    "    >>> main('6.txt')\n",
    "    Not file\n",
    "\n",
    "    >>> g=open('3.txt','w')\n",
    "    >>> u=g.write('agberg 1 2\\\\n')\n",
    "    >>> g.close()\n",
    "    >>> main('3.txt')\n",
    "    Bad data\n",
    "    \n",
    "    \"\"\"\n",
    "    arr, err = f.read_f(F)\n",
    "    if err == -1:\n",
    "        print (\"Not file\")\n",
    "    elif err == -2:\n",
    "        print (\"Bad data\")\n",
    "    elif err == -3:\n",
    "        print (\"Empty file\")\n",
    "    else:\n",
    "        print (arr)\n",
    "        arr = f.f_ins(arr)\n",
    "        print (arr)"
   ]
  },
  {
   "cell_type": "code",
   "execution_count": 30,
   "metadata": {},
   "outputs": [
    {
     "data": {
      "text/plain": [
       "TestResults(failed=0, attempted=13)"
      ]
     },
     "execution_count": 30,
     "metadata": {},
     "output_type": "execute_result"
    }
   ],
   "source": [
    "import doctest\n",
    "doctest.testmod()"
   ]
  },
  {
   "cell_type": "code",
   "execution_count": null,
   "metadata": {},
   "outputs": [],
   "source": []
  }
 ],
 "metadata": {
  "kernelspec": {
   "display_name": "Python 3",
   "language": "python",
   "name": "python3"
  },
  "language_info": {
   "codemirror_mode": {
    "name": "ipython",
    "version": 3
   },
   "file_extension": ".py",
   "mimetype": "text/x-python",
   "name": "python",
   "nbconvert_exporter": "python",
   "pygments_lexer": "ipython3",
   "version": "3.8.5"
  }
 },
 "nbformat": 4,
 "nbformat_minor": 4
}
