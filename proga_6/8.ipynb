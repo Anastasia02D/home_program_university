{
 "cells": [
  {
   "cell_type": "code",
   "execution_count": 1,
   "metadata": {},
   "outputs": [],
   "source": [
    "import math\n",
    "import random"
   ]
  },
  {
   "cell_type": "code",
   "execution_count": 2,
   "metadata": {},
   "outputs": [],
   "source": [
    "def proverka (z):\n",
    "    i = 0\n",
    "    x=0\n",
    "    y = z\n",
    "    while y != 0 and i < 8:\n",
    "        x = x << 1\n",
    "        x += (y & 1)\n",
    "        y = y >> 1\n",
    "        i += 1\n",
    "    y = y << 8\n",
    "    y = z - y\n",
    "    #print (x,y,z)\n",
    "    if x == y:\n",
    "        #print (z, \"0\")\n",
    "        return 0\n",
    "    else:\n",
    "        #print (z, \"-1\")\n",
    "        return -1"
   ]
  },
  {
   "cell_type": "code",
   "execution_count": 3,
   "metadata": {},
   "outputs": [],
   "source": [
    "def sort_puzerek (arr):\n",
    "    i = 0\n",
    "    j = 0\n",
    "    for i in range(len(arr) - 1):\n",
    "        for j in range(len(arr) - i - 2):\n",
    "            if proverka(arr[j]) == 0:\n",
    "                z = 1\n",
    "                #print (\"*\", arr[j], proverka(arr[j]))\n",
    "                while (proverka(arr[j + z]) != 0) and (j + z < len(arr) - i):\n",
    "                    z += 1\n",
    "                #print(\"j+z = \",j+z)\n",
    "                if (j + z != len(arr) - i):\n",
    "                    #print (\"**\", arr[j + z], proverka(arr[j+z]))\n",
    "                    if (arr[j] > arr[j + z]) and (proverka):\n",
    "                        tmp = arr[j]\n",
    "                        arr[j] = arr[j + z]\n",
    "                        arr[j + z] = tmp\n",
    "    return arr"
   ]
  },
  {
   "cell_type": "code",
   "execution_count": 21,
   "metadata": {},
   "outputs": [],
   "source": [
    "def sort_slianie(arr,beg, end):\n",
    "    if beg == end:\n",
    "        return\n",
    "    mid = (beg + end) // 2\n",
    "    sort_slianie(arr, beg, mid)\n",
    "    sort_slianie(arr, mid + 1, end)\n",
    "    tmp = []\n",
    "    i = beg\n",
    "    j = mid + 1\n",
    "    for step in range(end - beg + 1):\n",
    "        if proverka(arr[step + beg]) != 0:\n",
    "            tmp.append(arr[step + beg])\n",
    "            #print (tmp[step])\n",
    "        else:\n",
    "            while (i <= mid) and (proverka(arr[i]) != 0):\n",
    "                i += 1\n",
    "                #print (\"ii = \", i)\n",
    "            while (j <= end) and (proverka(arr[j]) != 0):\n",
    "                j += 1\n",
    "               # print (\"jj = \", j)\n",
    "            if (i <= mid) and (j <= end):\n",
    "                if (arr[i] < arr[j]):\n",
    "                    tmp.append(arr[i])\n",
    "                    i += 1\n",
    "                else:\n",
    "                    tmp.append(arr[j])\n",
    "                    j += 1\n",
    "            elif (i <= mid):\n",
    "                #print (\"i\", arr[i])\n",
    "                tmp.append(arr[i])\n",
    "                i += 1\n",
    "            else:\n",
    "                #print(\"j\", arr[j])\n",
    "                tmp.append(arr[j])\n",
    "                j += 1\n",
    "    \n",
    "    for step in range(end - beg + 1):\n",
    "        arr[beg + step] = tmp[step]\n",
    "    #print (\"!\", beg, mid, \"/\", mid+1, end)\n",
    "    #print (\"tmp = \", tmp)"
   ]
  },
  {
   "cell_type": "code",
   "execution_count": 22,
   "metadata": {},
   "outputs": [
    {
     "name": "stdout",
     "output_type": "stream",
     "text": [
      "arr_0 =  [573, 706, 489, 987, 784, 39, 355, 348, 698, 109, 129]\n",
      "arr_1 =  [573, 706, 489, 129, 784, 39, 355, 348, 698, 109, 987]\n",
      "arr_0 =  [573, 706, 489, 987, 784, 39, 355, 348, 698, 109, 129]\n",
      "arr_2 =  [573, 706, 489, 987, 784, 39, 355, 348, 698, 109, 129]\n",
      "arr_2 =  [573, 706, 489, 129, 784, 39, 355, 348, 698, 109, 987]\n"
     ]
    }
   ],
   "source": [
    "arr = []\n",
    "k = random.randint(5, 15)\n",
    "\"\"\"for i in range(k):\n",
    "    arr.append(random.randint(0, 1000))\"\"\"\n",
    "arr = [573, 706, 489, 987, 784, 39, 355, 348, 698, 109, 129]\n",
    "print (\"arr_0 = \",arr)\n",
    "\"\"\"for i in arr:\n",
    "    print(\"!\",i, proverka(i))\"\"\"\n",
    "arr_1 = arr.copy()\n",
    "arr_1 = sort_puzerek(arr_1)\n",
    "print (\"arr_1 = \",arr_1)\n",
    "print (\"arr_0 = \",arr)\n",
    "arr_2 = arr.copy()\n",
    "print (\"arr_2 = \", arr_2)\n",
    "sort_slianie(arr_2, 0 , len(arr) - 1)\n",
    "print (\"arr_2 = \", arr_2)\n",
    "#не работает (987, 129)"
   ]
  },
  {
   "cell_type": "code",
   "execution_count": null,
   "metadata": {},
   "outputs": [],
   "source": []
  },
  {
   "cell_type": "code",
   "execution_count": null,
   "metadata": {},
   "outputs": [],
   "source": [
    "#проверка\n",
    "arr = []\n",
    "k = random.randint(5, 20)\n",
    "for i in range(k):\n",
    "    arr.append(random.randint(0, 1000))\n",
    "arr1 = arr.copy()\n",
    "print (arr)\n",
    "arr1[0] += 5\n",
    "print (arr)\n",
    "arr1 = a(arr)\n",
    "print (arr)"
   ]
  },
  {
   "cell_type": "code",
   "execution_count": null,
   "metadata": {},
   "outputs": [],
   "source": []
  },
  {
   "cell_type": "code",
   "execution_count": null,
   "metadata": {},
   "outputs": [],
   "source": [
    "def a(arr):\n",
    "    arr[0] +=5\n",
    "    return arr"
   ]
  },
  {
   "cell_type": "code",
   "execution_count": null,
   "metadata": {},
   "outputs": [],
   "source": [
    "arr = []\n",
    "k = random.randint(5, 20)\n",
    "for i in range(k):\n",
    "    arr.append(random.randint(0, 1000))\n",
    "print (arr)\n",
    "arr1 = arr.copy()\n",
    "sort_slianie(arr1, 0, len(arr)-1)\n",
    "print(arr1)"
   ]
  },
  {
   "cell_type": "code",
   "execution_count": null,
   "metadata": {},
   "outputs": [],
   "source": [
    "#не по условию\n",
    "def sort_slianie(arr,beg, end):\n",
    "    if beg == end:\n",
    "        return\n",
    "    mid = (beg + end) // 2\n",
    "    sort_slianie(arr, beg, mid)\n",
    "    sort_slianie(arr, mid + 1, end)\n",
    "    tmp = []\n",
    "    i = beg\n",
    "    j = mid + 1\n",
    "    for step in range(end - beg + 1):\n",
    "        if (i > mid) or ((j <= end) and (arr[j] < arr[i])):\n",
    "            tmp.append(arr[j])\n",
    "            j += 1\n",
    "        else:\n",
    "            tmp.append(arr[i])\n",
    "            i += 1\n",
    "    for step in range(end - beg + 1):\n",
    "        arr[beg + step] = tmp[step]        \n",
    "    print (\"!\", beg, end)"
   ]
  },
  {
   "cell_type": "code",
   "execution_count": null,
   "metadata": {},
   "outputs": [],
   "source": []
  },
  {
   "cell_type": "code",
   "execution_count": null,
   "metadata": {},
   "outputs": [],
   "source": []
  }
 ],
 "metadata": {
  "kernelspec": {
   "display_name": "Python 3",
   "language": "python",
   "name": "python3"
  },
  "language_info": {
   "codemirror_mode": {
    "name": "ipython",
    "version": 3
   },
   "file_extension": ".py",
   "mimetype": "text/x-python",
   "name": "python",
   "nbconvert_exporter": "python",
   "pygments_lexer": "ipython3",
   "version": "3.8.5"
  }
 },
 "nbformat": 4,
 "nbformat_minor": 4
}
